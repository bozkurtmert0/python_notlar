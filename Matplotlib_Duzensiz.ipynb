{
  "nbformat": 4,
  "nbformat_minor": 0,
  "metadata": {
    "colab": {
      "name": "Matplotlib_Duzensiz.ipynb",
      "provenance": [],
      "authorship_tag": "ABX9TyOtTAygns+IgLZhkJm/tq8S",
      "include_colab_link": true
    },
    "kernelspec": {
      "name": "python3",
      "display_name": "Python 3"
    }
  },
  "cells": [
    {
      "cell_type": "markdown",
      "metadata": {
        "id": "view-in-github",
        "colab_type": "text"
      },
      "source": [
        "<a href=\"https://colab.research.google.com/github/bozkurtmert0/python_notlar/blob/main/Matplotlib_Duzensiz.ipynb\" target=\"_parent\"><img src=\"https://colab.research.google.com/assets/colab-badge.svg\" alt=\"Open In Colab\"/></a>"
      ]
    },
    {
      "cell_type": "markdown",
      "metadata": {
        "id": "RZmCI8EWryj5"
      },
      "source": [
        "## **Duzenlenmemis Ornek Kullanimlar**"
      ]
    },
    {
      "cell_type": "code",
      "metadata": {
        "id": "4xDvg-0OrZYx",
        "outputId": "3eb3b0d4-5883-416e-ce22-9607803e1d19",
        "colab": {
          "base_uri": "https://localhost:8080/",
          "height": 316
        }
      },
      "source": [
        "import numpy as np\n",
        "import matplotlib.pyplot as plt\n",
        "\n",
        "s = [2,3,4,5,6,7,8,9,10]\n",
        "s = np.array(s)\n",
        "\n",
        "plt.plot(s, s, 'r--', s, s*2, 'bs', s, s*3, 'g^')"
      ],
      "execution_count": 9,
      "outputs": [
        {
          "output_type": "execute_result",
          "data": {
            "text/plain": [
              "[<matplotlib.lines.Line2D at 0x7ff3fda4e9e8>,\n",
              " <matplotlib.lines.Line2D at 0x7ff3fda4ee80>,\n",
              " <matplotlib.lines.Line2D at 0x7ff3fda34128>]"
            ]
          },
          "metadata": {
            "tags": []
          },
          "execution_count": 9
        },
        {
          "output_type": "display_data",
          "data": {
            "image/png": "[encoded data removed]",
            "text/plain": [
              "<Figure size 432x288 with 1 Axes>"
            ]
          },
          "metadata": {
            "tags": [],
            "needs_background": "light"
          }
        }
      ]
    },
    {
      "cell_type": "markdown",
      "metadata": {
        "id": "dlnEamMvsY12"
      },
      "source": [
        "'r--'  ---->   kirmizi cizgiler icin <p>\n",
        "'bs'   ----> mavi kareler icin <p>\n",
        "'g^'   -----> ise yesil ucgenler icin kullanilan argumandir "
      ]
    },
    {
      "cell_type": "code",
      "metadata": {
        "id": "-jJWcc55sLYV"
      },
      "source": [
        ""
      ],
      "execution_count": null,
      "outputs": []
    }
  ]
}