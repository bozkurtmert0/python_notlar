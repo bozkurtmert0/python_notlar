{
  "nbformat": 4,
  "nbformat_minor": 0,
  "metadata": {
    "colab": {
      "name": "Tensorflow.ipynb",
      "provenance": [],
      "collapsed_sections": [],
      "authorship_tag": "ABX9TyOMyF04T5ughzSLM5zEpO3t",
      "include_colab_link": true
    },
    "kernelspec": {
      "name": "python3",
      "display_name": "Python 3"
    }
  },
  "cells": [
    {
      "cell_type": "markdown",
      "metadata": {
        "id": "view-in-github",
        "colab_type": "text"
      },
      "source": [
        "<a href=\"https://colab.research.google.com/github/bozkurtmert0/python_notlar/blob/main/Tensorflow.ipynb\" target=\"_parent\"><img src=\"https://colab.research.google.com/assets/colab-badge.svg\" alt=\"Open In Colab\"/></a>"
      ]
    },
    {
      "cell_type": "markdown",
      "metadata": {
        "id": "o9CxnjOdY9Fm"
      },
      "source": [
        "kurstan fotograflari yukle uste\n",
        "coursera tensorflow kursu"
      ]
    },
    {
      "cell_type": "code",
      "metadata": {
        "id": "qKrnDTlEPRYC"
      },
      "source": [
        "import keras\n",
        "import tensorflow as tf\n",
        "import numpy as np\n",
        "\n",
        "model = keras.Sequential([keras.layers.Dense(units = 1, input_shape = [1])])\n",
        "model.compile(optimizer= 'sgd' , loss= 'mean_squared_error')"
      ],
      "execution_count": null,
      "outputs": []
    },
    {
      "cell_type": "code",
      "metadata": {
        "id": "lAlpI-E3QdjL"
      },
      "source": [
        "xs = np.array([-1.0, 0.0 ,1.0 ,2.0 ,3.0 ,4.0] ,dtype =float)\n",
        "ys = np.array([-3.0 ,-1.0 ,1.0 ,3.0 ,5.0 ,7.0], dtype = float)\n",
        "\n",
        "#burada ki oruntu y = 2x-1 seklindedir"
      ],
      "execution_count": null,
      "outputs": []
    },
    {
      "cell_type": "code",
      "metadata": {
        "id": "qHiDvmaKQ-ar"
      },
      "source": [
        "model.fit(xs,ys,epochs = 500)"
      ],
      "execution_count": null,
      "outputs": []
    },
    {
      "cell_type": "code",
      "metadata": {
        "colab": {
          "base_uri": "https://localhost:8080/"
        },
        "id": "y2PHYkivRGUj",
        "outputId": "a43cbb6b-3bbd-438e-d1b7-c83115800193"
      },
      "source": [
        "print(model.predict([10.0]))"
      ],
      "execution_count": null,
      "outputs": [
        {
          "output_type": "stream",
          "text": [
            "[[18.976427]]\n"
          ],
          "name": "stdout"
        }
      ]
    },
    {
      "cell_type": "markdown",
      "metadata": {
        "id": "sMSY5yZ6RtS8"
      },
      "source": [
        "cevabin tam olarak 19 olmasi gerkirken 19 a yakin fakat 19 olmadigini gorduk bunun ana nedeni cok az veri ile modelimizi egitmis olmamiz.... sinir agi olasiliklarlar calistigi icin "
      ]
    },
    {
      "cell_type": "markdown",
      "metadata": {
        "id": "rAxiSsjnYoVG"
      },
      "source": [
        "buralari duzenle"
      ]
    },
    {
      "cell_type": "markdown",
      "metadata": {
        "id": "5z6TPlhjX9Q-"
      },
      "source": [
        "Bir ev fiyati tahmin etme porgrami gelistirelim evin standart fiayti 50k ve her oda eklendiginde +50k artacak olsun orn 2 odali ev 100k 3 odali 150k seklinde,buna gore model gelistirelim ve tahmin denemeleri yapalim\n",
        "\n",
        "```\n",
        "import tensorflow as tf\n",
        "import numpy as np\n",
        "from tensorflow import keras\n",
        "\n",
        "def house_model(y_new):\n",
        "    xs = np.array([1,2,3,4,5])\n",
        "    ys = np.array([100.0,150.0,200.0,250.0,300.0])\n",
        "    model = keras.Sequential([keras.layers.Dense(units = 1, input_shape = [1])])\n",
        "    model.compile(optimizer= 'sgd' , loss= 'mean_squared_error')\n",
        "    model.fit(xs,ys,epochs = 300)\n",
        "    return model.predict(y_new)[0]\n",
        "\n",
        "\n",
        "prediction = house_model([7.0])\n",
        "print(prediction)\n",
        "```\n",
        "\n"
      ]
    },
    {
      "cell_type": "markdown",
      "metadata": {
        "id": "6cv3SwZ9g7IX"
      },
      "source": [
        "Modeli erkne durdrumak"
      ]
    },
    {
      "cell_type": "code",
      "metadata": {
        "id": "oHdNoIqgReol"
      },
      "source": [
        "class myCallback(tf.keras.callbacks.Callback):\n",
        "  def on_epoch_end(self,epoch,logs = {}) :\n",
        "    if(logs.get('loss') < 0.4) :\n",
        "      print(\"Kayip 0.4 den az oldu durdur\")\n",
        "      self.model.stop_training = True\n",
        "\n",
        "\n",
        "\n",
        "callbacks = myCallback()"
      ],
      "execution_count": null,
      "outputs": []
    },
    {
      "cell_type": "code",
      "metadata": {
        "colab": {
          "base_uri": "https://localhost:8080/"
        },
        "id": "9RmnPubnfq_3",
        "outputId": "9fd83c18-f86f-4452-eeec-7f749c68916c"
      },
      "source": [
        "model.fit(xs,ys,epochs = 50, callbacks=[callbacks])"
      ],
      "execution_count": null,
      "outputs": [
        {
          "output_type": "stream",
          "text": [
            "Epoch 1/50\n",
            "1/1 [==============================] - ETA: 0s - loss: 3.6426e-07Kayip 0.4 den az oldu durdur\n",
            "1/1 [==============================] - 0s 3ms/step - loss: 3.6426e-07\n"
          ],
          "name": "stdout"
        },
        {
          "output_type": "execute_result",
          "data": {
            "text/plain": [
              "<tensorflow.python.keras.callbacks.History at 0x7f220d4adf28>"
            ]
          },
          "metadata": {
            "tags": []
          },
          "execution_count": 22
        }
      ]
    },
    {
      "cell_type": "code",
      "metadata": {
        "id": "RffFC1DmfvJ0"
      },
      "source": [
        ""
      ],
      "execution_count": null,
      "outputs": []
    }
  ]
}