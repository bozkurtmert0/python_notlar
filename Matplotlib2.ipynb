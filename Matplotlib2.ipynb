{
  "nbformat": 4,
  "nbformat_minor": 0,
  "metadata": {
    "colab": {
      "name": "Matplotlib2.ipynb",
      "provenance": [],
      "authorship_tag": "ABX9TyOtW3mE3tEhOoTmFSWOtDYl",
      "include_colab_link": true
    },
    "kernelspec": {
      "name": "python3",
      "display_name": "Python 3"
    }
  },
  "cells": [
    {
      "cell_type": "markdown",
      "metadata": {
        "id": "view-in-github",
        "colab_type": "text"
      },
      "source": [
        "<a href=\"https://colab.research.google.com/github/bozkurtmert0/python_notlar/blob/main/Matplotlib2.ipynb\" target=\"_parent\"><img src=\"https://colab.research.google.com/assets/colab-badge.svg\" alt=\"Open In Colab\"/></a>"
      ]
    },
    {
      "cell_type": "markdown",
      "metadata": {
        "id": "8CthSWN8t38i"
      },
      "source": [
        "Kutuphaneleri dahil edip dizilerimizi olusturalim"
      ]
    },
    {
      "cell_type": "code",
      "metadata": {
        "id": "mXw8oiRdq5Do"
      },
      "source": [
        "import numpy as np\n",
        "import matplotlib.pyplot as plt\n",
        "\n",
        "a_dizisi = np.linspace(0,10,40)\n",
        "b_dizisi = a_dizisi **2\n"
      ],
      "execution_count": 12,
      "outputs": []
    },
    {
      "cell_type": "markdown",
      "metadata": {
        "id": "oYXft02Qt0_P"
      },
      "source": [
        "Dizilerimize goz atalim"
      ]
    },
    {
      "cell_type": "code",
      "metadata": {
        "id": "uTqbXdTospNp",
        "outputId": "e9983c0a-6d9a-4a6c-be54-70b4f1f04aa1",
        "colab": {
          "base_uri": "https://localhost:8080/"
        }
      },
      "source": [
        "print(a_dizisi)\n",
        "print(b_dizisi)"
      ],
      "execution_count": 13,
      "outputs": [
        {
          "output_type": "stream",
          "text": [
            "[ 0.          0.25641026  0.51282051  0.76923077  1.02564103  1.28205128\n",
            "  1.53846154  1.79487179  2.05128205  2.30769231  2.56410256  2.82051282\n",
            "  3.07692308  3.33333333  3.58974359  3.84615385  4.1025641   4.35897436\n",
            "  4.61538462  4.87179487  5.12820513  5.38461538  5.64102564  5.8974359\n",
            "  6.15384615  6.41025641  6.66666667  6.92307692  7.17948718  7.43589744\n",
            "  7.69230769  7.94871795  8.20512821  8.46153846  8.71794872  8.97435897\n",
            "  9.23076923  9.48717949  9.74358974 10.        ]\n",
            "[0.00000000e+00 6.57462196e-02 2.62984878e-01 5.91715976e-01\n",
            " 1.05193951e+00 1.64365549e+00 2.36686391e+00 3.22156476e+00\n",
            " 4.20775805e+00 5.32544379e+00 6.57462196e+00 7.95529257e+00\n",
            " 9.46745562e+00 1.11111111e+01 1.28862590e+01 1.47928994e+01\n",
            " 1.68310322e+01 1.90006575e+01 2.13017751e+01 2.37343853e+01\n",
            " 2.62984878e+01 2.89940828e+01 3.18211703e+01 3.47797502e+01\n",
            " 3.78698225e+01 4.10913872e+01 4.44444444e+01 4.79289941e+01\n",
            " 5.15450362e+01 5.52925707e+01 5.91715976e+01 6.31821170e+01\n",
            " 6.73241289e+01 7.15976331e+01 7.60026298e+01 8.05391190e+01\n",
            " 8.52071006e+01 9.00065746e+01 9.49375411e+01 1.00000000e+02]\n"
          ],
          "name": "stdout"
        }
      ]
    },
    {
      "cell_type": "code",
      "metadata": {
        "id": "kjkj4ZiYsrEB",
        "outputId": "87e93049-e7e3-4b9d-a4bd-ee4a383e92cc",
        "colab": {
          "base_uri": "https://localhost:8080/",
          "height": 282
        }
      },
      "source": [
        "plt.plot(a_dizisi,b_dizisi,\"r-*\")"
      ],
      "execution_count": 14,
      "outputs": [
        {
          "output_type": "execute_result",
          "data": {
            "text/plain": [
              "[<matplotlib.lines.Line2D at 0x7f9ba8577748>]"
            ]
          },
          "metadata": {
            "tags": []
          },
          "execution_count": 14
        },
        {
          "output_type": "display_data",
          "data": {
            "image/png": "[encoded data removed]",
            "text/plain": [
              "<Figure size 432x288 with 1 Axes>"
            ]
          },
          "metadata": {
            "tags": [],
            "needs_background": "light"
          }
        }
      ]
    },
    {
      "cell_type": "markdown",
      "metadata": {
        "id": "QAfyCatQuEFQ"
      },
      "source": [
        "# Alt grafikler"
      ]
    },
    {
      "cell_type": "code",
      "metadata": {
        "id": "9FjXYxjBtgxY",
        "outputId": "ab9cf412-0575-413a-ae42-4aa70f0b8faf",
        "colab": {
          "base_uri": "https://localhost:8080/",
          "height": 282
        }
      },
      "source": [
        "plt.subplot(1,2,1) #kac satir olacagi , kat grafik olacagi ,suan hangisini ciziyo olacagim\n",
        "plt.plot(a_dizisi,b_dizisi,\"g--\")\n",
        "plt.subplot(1,2,2) #2. grafigi cizcegim anlaminda\n",
        "plt.plot(b_dizisi,a_dizisi,\"b-*\")"
      ],
      "execution_count": 16,
      "outputs": [
        {
          "output_type": "execute_result",
          "data": {
            "text/plain": [
              "[<matplotlib.lines.Line2D at 0x7f9bb0eb3ac8>]"
            ]
          },
          "metadata": {
            "tags": []
          },
          "execution_count": 16
        },
        {
          "output_type": "display_data",
          "data": {
            "image/png": "[encoded data removed]",
            "text/plain": [
              "<Figure size 432x288 with 2 Axes>"
            ]
          },
          "metadata": {
            "tags": [],
            "needs_background": "light"
          }
        }
      ]
    },
    {
      "cell_type": "code",
      "metadata": {
        "id": "v1PQf5-wulex"
      },
      "source": [
        ""
      ],
      "execution_count": null,
      "outputs": []
    }
  ]
}